{
  "nbformat": 4,
  "nbformat_minor": 0,
  "metadata": {
    "colab": {
      "name": "190306_teleboat_auto_login.ipynb",
      "version": "0.3.2",
      "provenance": [],
      "include_colab_link": true
    },
    "kernelspec": {
      "name": "python3",
      "display_name": "Python 3"
    }
  },
  "cells": [
    {
      "cell_type": "markdown",
      "metadata": {
        "id": "view-in-github",
        "colab_type": "text"
      },
      "source": [
        "<a href=\"https://colab.research.google.com/github/Daisuke0209/DataAccess/blob/master/190306_teleboat_auto_login.ipynb\" target=\"_parent\"><img src=\"https://colab.research.google.com/assets/colab-badge.svg\" alt=\"Open In Colab\"/></a>"
      ]
    },
    {
      "metadata": {
        "id": "ngSuVvQ1PZUQ",
        "colab_type": "text"
      },
      "cell_type": "markdown",
      "source": [
        "# 競艇自動購入ソフト"
      ]
    },
    {
      "metadata": {
        "id": "gSIIyMkfPQIE",
        "colab_type": "code",
        "colab": {}
      },
      "cell_type": "code",
      "source": [
        "from selenium import webdriver\n",
        "import time"
      ],
      "execution_count": 0,
      "outputs": []
    },
    {
      "metadata": {
        "id": "lPJo2bd_Peav",
        "colab_type": "text"
      },
      "cell_type": "markdown",
      "source": [
        "## テレボート自動ログイン"
      ]
    },
    {
      "metadata": {
        "id": "4bPYzwVXPWdl",
        "colab_type": "code",
        "colab": {}
      },
      "cell_type": "code",
      "source": [
        "#####テレボートログイン######\n",
        "driver =  webdriver.Chrome(\"C:\\\\Users\\\\Owner\\\\Desktop\\\\ML\\\\5_Data Access\\\\chromedriver.exe\")\n",
        "driver.get(\"https://ib.mbrace.or.jp/\")\n",
        "# ID/PASSを入力\n",
        "id = driver.find_element_by_id(\"memberNo\")\n",
        "#加入者番号を入力\n",
        "id.send_keys(\"********\")\n",
        "password = driver.find_element_by_id(\"pin\")\n",
        "#暗唱番号を入力\n",
        "password.send_keys(\"****\")\n",
        "authpass = driver.find_element_by_id(\"authPassword\")\n",
        "#認証用パスワードを入力\n",
        "authpass.send_keys(\"******\")\n",
        "time.sleep(1)\n",
        "\n",
        "# ログインボタンをクリック\n",
        "login_button = driver.find_element_by_id(\"loginButton\")\n",
        "login_button.click()\n",
        "\n",
        "####テレボートwindowハンドル取得・遷移\n",
        "window = driver.window_handles\n",
        "driver.switch_to.window(window[1])"
      ],
      "execution_count": 0,
      "outputs": []
    }
  ]
}